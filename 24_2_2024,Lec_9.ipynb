{
  "nbformat": 4,
  "nbformat_minor": 0,
  "metadata": {
    "colab": {
      "provenance": [],
      "authorship_tag": "ABX9TyN0sL12pjSIldhstJJdxfR0",
      "include_colab_link": true
    },
    "kernelspec": {
      "name": "python3",
      "display_name": "Python 3"
    },
    "language_info": {
      "name": "python"
    }
  },
  "cells": [
    {
      "cell_type": "markdown",
      "metadata": {
        "id": "view-in-github",
        "colab_type": "text"
      },
      "source": [
        "<a href=\"https://colab.research.google.com/github/AbdellatifAlbanna/Data-analysis-1/blob/main/24_2_2024%2CLec_9.ipynb\" target=\"_parent\"><img src=\"https://colab.research.google.com/assets/colab-badge.svg\" alt=\"Open In Colab\"/></a>"
      ]
    },
    {
      "cell_type": "code",
      "execution_count": 23,
      "metadata": {
        "colab": {
          "base_uri": "https://localhost:8080/"
        },
        "id": "TYr7UIr5dhZM",
        "outputId": "8f22ded3-d51a-40e5-d1fd-79aefc25e807"
      },
      "outputs": [
        {
          "output_type": "stream",
          "name": "stdout",
          "text": [
            "Making predictions for the following 5 houses:\n",
            "    Rooms  Bathroom  Landsize  YearBuilt  Distance\n",
            "1       2       1.0     156.0     1900.0       2.5\n",
            "2       3       2.0     134.0     1900.0       2.5\n",
            "4       4       1.0     120.0     2014.0       2.5\n",
            "6       3       2.0     245.0     1910.0       2.5\n",
            "7       2       1.0     256.0     1890.0       2.5\n",
            "9       2       1.0     220.0     1900.0       2.5\n",
            "11      3       2.0     214.0     2005.0       2.5\n",
            "12      2       2.0       0.0     2009.0       2.5\n",
            "The predictions are\n",
            "[1035000. 1465000. 1600000. 1876000. 1636000. 1097000. 1350000.  750000.]\n"
          ]
        }
      ],
      "source": [
        "#this code was on saturday 24/2/2024\n",
        "#reference kaggle(Your First Machine Learning Model)\n",
        "\n",
        "import math\n",
        "import pandas as pd\n",
        "import numpy as np\n",
        "\n",
        "pd.plotting.register_matplotlib_converters()\n",
        "import matplotlib.pyplot as plt\n",
        "%matplotlib inline\n",
        "import seaborn as sns\n",
        "\n",
        "\n",
        "\n",
        "melbourne_data = pd.read_csv(\"/content/sample_data/melb_data.csv\")\n",
        "\n",
        "#melbourne_data.tail(100)\n",
        "\n",
        "melbourne_data.describe()\n",
        "\n",
        "melbourne_data = melbourne_data.dropna(axis=0)\n",
        "\n",
        "melbourne_data.head(1000)\n",
        "\n",
        "y = melbourne_data.Price #train # test\n",
        "\n",
        "melbourne_features = ['Rooms', 'Bathroom', 'Landsize','YearBuilt','Distance' ]\n",
        "\n",
        "X = melbourne_data[melbourne_features]\n",
        "\n",
        "\n",
        "from sklearn.tree import DecisionTreeRegressor\n",
        "\n",
        "# Define model. Specify a number for random_state to ensure same results each run\n",
        "melbourne_model = DecisionTreeRegressor(random_state=0)\n",
        "\n",
        "# Fit model\n",
        "melbourne_model.fit(X, y)\n",
        "\n",
        "print(\"Making predictions for the following 5 houses:\")\n",
        "print(X.head(8))\n",
        "print(\"The predictions are\")\n",
        "print(melbourne_model.predict(X.head(8)))\n",
        "\n",
        "\n"
      ]
    }
  ]
}